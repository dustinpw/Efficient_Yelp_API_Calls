{
 "cells": [
  {
   "cell_type": "markdown",
   "id": "3ea80cea",
   "metadata": {},
   "source": [
    "## Imports and credentials"
   ]
  },
  {
   "cell_type": "code",
   "execution_count": 1,
   "id": "dedeb4c9",
   "metadata": {},
   "outputs": [
    {
     "data": {
      "text/plain": [
       "dict_keys(['client-id', 'api-key'])"
      ]
     },
     "execution_count": 1,
     "metadata": {},
     "output_type": "execute_result"
    }
   ],
   "source": [
    "# Standard Imports\n",
    "import numpy as np\n",
    "import pandas as pd\n",
    "import matplotlib.pyplot as plt\n",
    "import seaborn as sns\n",
    "\n",
    "# Additional Imports\n",
    "import os, json, math, time\n",
    "from yelpapi import YelpAPI\n",
    "from tqdm.notebook import tqdm_notebook\n",
    "\n",
    "with open('/Users/dusti/.secret/yelp_api.json') as f: \n",
    "    login = json.load(f)\n",
    "login.keys()"
   ]
  },
  {
   "cell_type": "code",
   "execution_count": 2,
   "id": "31fdca4e",
   "metadata": {},
   "outputs": [
    {
     "data": {
      "text/plain": [
       "<yelpapi.yelpapi.YelpAPI at 0x1ffacc7f8e0>"
      ]
     },
     "execution_count": 2,
     "metadata": {},
     "output_type": "execute_result"
    }
   ],
   "source": [
    "yelp_api = YelpAPI(login['api-key'], timeout_s=5.0)\n",
    "\n",
    "yelp_api"
   ]
  },
  {
   "cell_type": "markdown",
   "id": "a97538f2",
   "metadata": {},
   "source": [
    "## Define search"
   ]
  },
  {
   "cell_type": "code",
   "execution_count": 3,
   "id": "11f13b2d",
   "metadata": {},
   "outputs": [],
   "source": [
    "LOCATION = 'Champaign, IL'\n",
    "TERM = 'sushi'"
   ]
  },
  {
   "cell_type": "code",
   "execution_count": 4,
   "id": "a9cc95e8",
   "metadata": {},
   "outputs": [
    {
     "data": {
      "text/plain": [
       "'Data/results_in_progress_Champaign_sushi.json'"
      ]
     },
     "execution_count": 4,
     "metadata": {},
     "output_type": "execute_result"
    }
   ],
   "source": [
    "JSON_FILE = \"Data/results_in_progress_Champaign_sushi.json\"\n",
    "JSON_FILE"
   ]
  },
  {
   "cell_type": "code",
   "execution_count": 5,
   "id": "92db69ff",
   "metadata": {},
   "outputs": [
    {
     "name": "stdout",
     "output_type": "stream",
     "text": [
      "[i] Data/results_in_progress_Champaign_sushi.json not found. Saving empty list to file.\n"
     ]
    }
   ],
   "source": [
    "file_exists = os.path.isfile(JSON_FILE)\n",
    "\n",
    "if file_exists == False:\n",
    "    \n",
    "\n",
    "    folder = os.path.dirname(JSON_FILE)\n",
    "    \n",
    "    if len(folder)>0:\n",
    "        \n",
    "        os.makedirs(folder,exist_ok=True)\n",
    "        \n",
    "        \n",
    "    \n",
    "    print(f'[i] {JSON_FILE} not found. Saving empty list to file.')\n",
    "    \n",
    "    \n",
    "    \n",
    "    with open(JSON_FILE,'w') as f:\n",
    "        json.dump([],f)  \n",
    "\n",
    "else:\n",
    "    print(f\"[i] {JSON_FILE} already exists.\")"
   ]
  },
  {
   "cell_type": "markdown",
   "id": "adc3ccb7",
   "metadata": {},
   "source": [
    "## Determine how many results are already in the file"
   ]
  },
  {
   "cell_type": "code",
   "execution_count": 6,
   "id": "99a31e15",
   "metadata": {},
   "outputs": [
    {
     "name": "stdout",
     "output_type": "stream",
     "text": [
      "- 0 previous results found.\n"
     ]
    }
   ],
   "source": [
    "with open(JSON_FILE,'r') as f:\n",
    "    previous_results = json.load(f)\n",
    "    \n",
    "\n",
    "n_results = len(previous_results)\n",
    "print(f'- {n_results} previous results found.')"
   ]
  },
  {
   "cell_type": "markdown",
   "id": "4daef809",
   "metadata": {},
   "source": [
    "## Determine how many pages needed"
   ]
  },
  {
   "cell_type": "code",
   "execution_count": 7,
   "id": "3b4e2cdc",
   "metadata": {},
   "outputs": [
    {
     "data": {
      "text/plain": [
       "dict_keys(['businesses', 'total', 'region'])"
      ]
     },
     "execution_count": 7,
     "metadata": {},
     "output_type": "execute_result"
    }
   ],
   "source": [
    "results = yelp_api.search_query(location=LOCATION,\n",
    "                                term=TERM,\n",
    "                               offset=n_results)\n",
    "results.keys()"
   ]
  },
  {
   "cell_type": "markdown",
   "id": "b32d0bd8",
   "metadata": {},
   "source": [
    "## Delete previous results file"
   ]
  },
  {
   "cell_type": "code",
   "execution_count": 8,
   "id": "1f021e6d",
   "metadata": {},
   "outputs": [
    {
     "data": {
      "text/plain": [
       "False"
      ]
     },
     "execution_count": 8,
     "metadata": {},
     "output_type": "execute_result"
    }
   ],
   "source": [
    "os.remove(JSON_FILE)\n",
    "os.path.isfile(JSON_FILE)"
   ]
  },
  {
   "cell_type": "markdown",
   "id": "50e26ce9",
   "metadata": {},
   "source": [
    "## Re-run code with new function"
   ]
  },
  {
   "cell_type": "code",
   "execution_count": 9,
   "id": "8eaef546",
   "metadata": {},
   "outputs": [],
   "source": [
    "import os\n",
    "import json\n",
    "\n",
    "def create_json_file(JSON_FILE, delete_if_exists=False):\n",
    "    \n",
    "    ## Check if JSON_FILE exists\n",
    "    file_exists = os.path.isfile(JSON_FILE)\n",
    "    \n",
    "    ## If it DOES exist:\n",
    "    if file_exists == True:\n",
    "        \n",
    "        ## Check if user wants to delete if exists\n",
    "        if delete_if_exists==True:\n",
    "            \n",
    "            print(f\"[!] {JSON_FILE} already exists. Deleting previous file...\")\n",
    "            ## delete file and confirm it no longer exits.\n",
    "            os.remove(JSON_FILE)\n",
    "            ## Recursive call to function after old file deleted\n",
    "            create_json_file(JSON_FILE,delete_if_exists=False)\n",
    "        else:\n",
    "            print(f\"[i] {JSON_FILE} already exists.\")            \n",
    "            \n",
    "            \n",
    "    ## If it does NOT exist:\n",
    "    else:\n",
    "        \n",
    "        ## INFORM USER AND SAVE EMPTY LIST\n",
    "        print(f\"[i] {JSON_FILE} not found. Saving empty list to new file.\")\n",
    "        \n",
    "        ## CREATE ANY NEEDED FOLDERS\n",
    "        # Get the Folder Name only\n",
    "        folder = os.path.dirname(JSON_FILE)\n",
    "        \n",
    "        ## If JSON_FILE included a folder:\n",
    "        if len(folder)>0:\n",
    "            # create the folder\n",
    "            os.makedirs(folder,exist_ok=True)\n",
    "        ## Save empty list to start the json file\n",
    "        with open(JSON_FILE,'w') as f:\n",
    "            json.dump([],f)"
   ]
  },
  {
   "cell_type": "code",
   "execution_count": 10,
   "id": "c6a535e0",
   "metadata": {},
   "outputs": [
    {
     "name": "stdout",
     "output_type": "stream",
     "text": [
      "[i] Data/results_in_progress_Champaign_sushi.json not found. Saving empty list to new file.\n",
      "- 0 previous results found.\n"
     ]
    },
    {
     "data": {
      "text/plain": [
       "2"
      ]
     },
     "execution_count": 10,
     "metadata": {},
     "output_type": "execute_result"
    }
   ],
   "source": [
    "## Create a new empty json file (exist the previous if it exists)\n",
    "create_json_file(JSON_FILE, delete_if_exists=True)\n",
    "## Load previous results and use len of results for offset\n",
    "with open(JSON_FILE,'r') as f:\n",
    "    previous_results = json.load(f)\n",
    "    \n",
    "## set offset based on previous results\n",
    "n_results = len(previous_results)\n",
    "print(f'- {n_results} previous results found.')\n",
    "# use our yelp_api variable's search_query method to perform our API call\n",
    "results = yelp_api.search_query(location=LOCATION,\n",
    "                                term=TERM,\n",
    "                               offset=n_results)\n",
    "## How many results total?\n",
    "total_results = results['total']\n",
    "## How many did we get the details for?\n",
    "results_per_page = len(results['businesses'])\n",
    "# Use math.ceil to round up for the total number of pages of results.\n",
    "n_pages = math.ceil((results['total']-n_results)/ results_per_page)\n",
    "n_pages"
   ]
  },
  {
   "cell_type": "code",
   "execution_count": 11,
   "id": "5653b3a7",
   "metadata": {},
   "outputs": [
    {
     "data": {
      "application/vnd.jupyter.widget-view+json": {
       "model_id": "d3e8c0a796154c91bb8d5b678f0da9a8",
       "version_major": 2,
       "version_minor": 0
      },
      "text/plain": [
       "  0%|          | 0/2 [00:00<?, ?it/s]"
      ]
     },
     "metadata": {},
     "output_type": "display_data"
    }
   ],
   "source": [
    "for i in tqdm_notebook( range(1,n_pages+1)):\n",
    "    \n",
    "    ## Read in results in progress file and check the length\n",
    "    with open(JSON_FILE, 'r') as f:\n",
    "        previous_results = json.load(f)\n",
    "    ## save number of results for to use as offset\n",
    "    n_results = len(previous_results)\n",
    "    \n",
    "    if (n_results + results_per_page) > 1000:\n",
    "        print('Exceeded 1000 api calls. Stopping loop.')\n",
    "        break\n",
    "    \n",
    "    ## use n_results as the OFFSET \n",
    "    results = yelp_api.search_query(location=LOCATION,\n",
    "                                    term=TERM, \n",
    "                                    offset=n_results)\n",
    "    \n",
    "    \n",
    "    \n",
    "    ## append new results and save to file\n",
    "    previous_results.extend(results['businesses'])\n",
    "    \n",
    "    # display(previous_results)\n",
    "    with open(JSON_FILE,'w') as f:\n",
    "        json.dump(previous_results,f)\n",
    "    \n",
    "    time.sleep(.2)"
   ]
  },
  {
   "cell_type": "markdown",
   "id": "c68e45c0",
   "metadata": {},
   "source": [
    "## Convert .json to df"
   ]
  },
  {
   "cell_type": "code",
   "execution_count": 12,
   "id": "f2297abb",
   "metadata": {},
   "outputs": [
    {
     "data": {
      "text/html": [
       "<div>\n",
       "<style scoped>\n",
       "    .dataframe tbody tr th:only-of-type {\n",
       "        vertical-align: middle;\n",
       "    }\n",
       "\n",
       "    .dataframe tbody tr th {\n",
       "        vertical-align: top;\n",
       "    }\n",
       "\n",
       "    .dataframe thead th {\n",
       "        text-align: right;\n",
       "    }\n",
       "</style>\n",
       "<table border=\"1\" class=\"dataframe\">\n",
       "  <thead>\n",
       "    <tr style=\"text-align: right;\">\n",
       "      <th></th>\n",
       "      <th>id</th>\n",
       "      <th>alias</th>\n",
       "      <th>name</th>\n",
       "      <th>image_url</th>\n",
       "      <th>is_closed</th>\n",
       "      <th>url</th>\n",
       "      <th>review_count</th>\n",
       "      <th>categories</th>\n",
       "      <th>rating</th>\n",
       "      <th>coordinates</th>\n",
       "      <th>transactions</th>\n",
       "      <th>location</th>\n",
       "      <th>phone</th>\n",
       "      <th>display_phone</th>\n",
       "      <th>distance</th>\n",
       "      <th>price</th>\n",
       "    </tr>\n",
       "  </thead>\n",
       "  <tbody>\n",
       "    <tr>\n",
       "      <th>0</th>\n",
       "      <td>ml2qTQ3qlgrTN2W2VvdKmQ</td>\n",
       "      <td>sushi-siam-champaign</td>\n",
       "      <td>Sushi Siam</td>\n",
       "      <td>https://s3-media2.fl.yelpcdn.com/bphoto/4Ak0PS...</td>\n",
       "      <td>False</td>\n",
       "      <td>https://www.yelp.com/biz/sushi-siam-champaign?...</td>\n",
       "      <td>41</td>\n",
       "      <td>[{'alias': 'sushi', 'title': 'Sushi Bars'}]</td>\n",
       "      <td>4.5</td>\n",
       "      <td>{'latitude': 40.09733255075801, 'longitude': -...</td>\n",
       "      <td>[delivery, pickup]</td>\n",
       "      <td>{'address1': '1731 W Kirby Ave', 'address2': N...</td>\n",
       "      <td>+12176071906</td>\n",
       "      <td>(217) 607-1906</td>\n",
       "      <td>1776.101282</td>\n",
       "      <td>NaN</td>\n",
       "    </tr>\n",
       "    <tr>\n",
       "      <th>1</th>\n",
       "      <td>-zEpEmDfFQL-ph0N3BDlXA</td>\n",
       "      <td>sakanaya-champaign-2</td>\n",
       "      <td>Sakanaya</td>\n",
       "      <td>https://s3-media2.fl.yelpcdn.com/bphoto/cHogr6...</td>\n",
       "      <td>False</td>\n",
       "      <td>https://www.yelp.com/biz/sakanaya-champaign-2?...</td>\n",
       "      <td>593</td>\n",
       "      <td>[{'alias': 'japanese', 'title': 'Japanese'}, {...</td>\n",
       "      <td>4.5</td>\n",
       "      <td>{'latitude': 40.11001, 'longitude': -88.23307}</td>\n",
       "      <td>[delivery, pickup]</td>\n",
       "      <td>{'address1': '403 E Green St', 'address2': Non...</td>\n",
       "      <td>+12173441400</td>\n",
       "      <td>(217) 344-1400</td>\n",
       "      <td>3780.984404</td>\n",
       "      <td>$$</td>\n",
       "    </tr>\n",
       "    <tr>\n",
       "      <th>2</th>\n",
       "      <td>avyN1FdXcxQfrM8Mqz7WGA</td>\n",
       "      <td>ishi-sushi-and-kaori-s-oven-champaign</td>\n",
       "      <td>ISHI sushi &amp; Kaori’s Oven</td>\n",
       "      <td>https://s3-media1.fl.yelpcdn.com/bphoto/cSZUki...</td>\n",
       "      <td>False</td>\n",
       "      <td>https://www.yelp.com/biz/ishi-sushi-and-kaori-...</td>\n",
       "      <td>6</td>\n",
       "      <td>[{'alias': 'sushi', 'title': 'Sushi Bars'}]</td>\n",
       "      <td>5.0</td>\n",
       "      <td>{'latitude': 40.09874, 'longitude': -88.24724}</td>\n",
       "      <td>[]</td>\n",
       "      <td>{'address1': '305 Cedar St', 'address2': '', '...</td>\n",
       "      <td></td>\n",
       "      <td></td>\n",
       "      <td>3028.885859</td>\n",
       "      <td>NaN</td>\n",
       "    </tr>\n",
       "    <tr>\n",
       "      <th>3</th>\n",
       "      <td>NEVA0IYbawceL6kz5v5DAw</td>\n",
       "      <td>kofusion-champaign</td>\n",
       "      <td>Kofusion</td>\n",
       "      <td>https://s3-media2.fl.yelpcdn.com/bphoto/a20kCP...</td>\n",
       "      <td>False</td>\n",
       "      <td>https://www.yelp.com/biz/kofusion-champaign?ad...</td>\n",
       "      <td>358</td>\n",
       "      <td>[{'alias': 'asianfusion', 'title': 'Asian Fusi...</td>\n",
       "      <td>3.5</td>\n",
       "      <td>{'latitude': 40.1176334856215, 'longitude': -8...</td>\n",
       "      <td>[delivery]</td>\n",
       "      <td>{'address1': '30 E Main St', 'address2': None,...</td>\n",
       "      <td>+12175311166</td>\n",
       "      <td>(217) 531-1166</td>\n",
       "      <td>3004.482002</td>\n",
       "      <td>$$</td>\n",
       "    </tr>\n",
       "    <tr>\n",
       "      <th>4</th>\n",
       "      <td>0-WocGTpO3Zm4q1Zzz49Rw</td>\n",
       "      <td>sushi-kame-champaign</td>\n",
       "      <td>Sushi Kame</td>\n",
       "      <td>https://s3-media2.fl.yelpcdn.com/bphoto/p_1Q9W...</td>\n",
       "      <td>False</td>\n",
       "      <td>https://www.yelp.com/biz/sushi-kame-champaign?...</td>\n",
       "      <td>169</td>\n",
       "      <td>[{'alias': 'sushi', 'title': 'Sushi Bars'}, {'...</td>\n",
       "      <td>3.5</td>\n",
       "      <td>{'latitude': 40.109781, 'longitude': -88.240886}</td>\n",
       "      <td>[delivery]</td>\n",
       "      <td>{'address1': '39 E Green St', 'address2': None...</td>\n",
       "      <td>+12173563366</td>\n",
       "      <td>(217) 356-3366</td>\n",
       "      <td>3111.976400</td>\n",
       "      <td>$$</td>\n",
       "    </tr>\n",
       "  </tbody>\n",
       "</table>\n",
       "</div>"
      ],
      "text/plain": [
       "                       id                                  alias  \\\n",
       "0  ml2qTQ3qlgrTN2W2VvdKmQ                   sushi-siam-champaign   \n",
       "1  -zEpEmDfFQL-ph0N3BDlXA                   sakanaya-champaign-2   \n",
       "2  avyN1FdXcxQfrM8Mqz7WGA  ishi-sushi-and-kaori-s-oven-champaign   \n",
       "3  NEVA0IYbawceL6kz5v5DAw                     kofusion-champaign   \n",
       "4  0-WocGTpO3Zm4q1Zzz49Rw                   sushi-kame-champaign   \n",
       "\n",
       "                        name  \\\n",
       "0                 Sushi Siam   \n",
       "1                   Sakanaya   \n",
       "2  ISHI sushi & Kaori’s Oven   \n",
       "3                   Kofusion   \n",
       "4                 Sushi Kame   \n",
       "\n",
       "                                           image_url  is_closed  \\\n",
       "0  https://s3-media2.fl.yelpcdn.com/bphoto/4Ak0PS...      False   \n",
       "1  https://s3-media2.fl.yelpcdn.com/bphoto/cHogr6...      False   \n",
       "2  https://s3-media1.fl.yelpcdn.com/bphoto/cSZUki...      False   \n",
       "3  https://s3-media2.fl.yelpcdn.com/bphoto/a20kCP...      False   \n",
       "4  https://s3-media2.fl.yelpcdn.com/bphoto/p_1Q9W...      False   \n",
       "\n",
       "                                                 url  review_count  \\\n",
       "0  https://www.yelp.com/biz/sushi-siam-champaign?...            41   \n",
       "1  https://www.yelp.com/biz/sakanaya-champaign-2?...           593   \n",
       "2  https://www.yelp.com/biz/ishi-sushi-and-kaori-...             6   \n",
       "3  https://www.yelp.com/biz/kofusion-champaign?ad...           358   \n",
       "4  https://www.yelp.com/biz/sushi-kame-champaign?...           169   \n",
       "\n",
       "                                          categories  rating  \\\n",
       "0        [{'alias': 'sushi', 'title': 'Sushi Bars'}]     4.5   \n",
       "1  [{'alias': 'japanese', 'title': 'Japanese'}, {...     4.5   \n",
       "2        [{'alias': 'sushi', 'title': 'Sushi Bars'}]     5.0   \n",
       "3  [{'alias': 'asianfusion', 'title': 'Asian Fusi...     3.5   \n",
       "4  [{'alias': 'sushi', 'title': 'Sushi Bars'}, {'...     3.5   \n",
       "\n",
       "                                         coordinates        transactions  \\\n",
       "0  {'latitude': 40.09733255075801, 'longitude': -...  [delivery, pickup]   \n",
       "1     {'latitude': 40.11001, 'longitude': -88.23307}  [delivery, pickup]   \n",
       "2     {'latitude': 40.09874, 'longitude': -88.24724}                  []   \n",
       "3  {'latitude': 40.1176334856215, 'longitude': -8...          [delivery]   \n",
       "4   {'latitude': 40.109781, 'longitude': -88.240886}          [delivery]   \n",
       "\n",
       "                                            location         phone  \\\n",
       "0  {'address1': '1731 W Kirby Ave', 'address2': N...  +12176071906   \n",
       "1  {'address1': '403 E Green St', 'address2': Non...  +12173441400   \n",
       "2  {'address1': '305 Cedar St', 'address2': '', '...                 \n",
       "3  {'address1': '30 E Main St', 'address2': None,...  +12175311166   \n",
       "4  {'address1': '39 E Green St', 'address2': None...  +12173563366   \n",
       "\n",
       "    display_phone     distance price  \n",
       "0  (217) 607-1906  1776.101282   NaN  \n",
       "1  (217) 344-1400  3780.984404    $$  \n",
       "2                  3028.885859   NaN  \n",
       "3  (217) 531-1166  3004.482002    $$  \n",
       "4  (217) 356-3366  3111.976400    $$  "
      ]
     },
     "metadata": {},
     "output_type": "display_data"
    },
    {
     "data": {
      "text/html": [
       "<div>\n",
       "<style scoped>\n",
       "    .dataframe tbody tr th:only-of-type {\n",
       "        vertical-align: middle;\n",
       "    }\n",
       "\n",
       "    .dataframe tbody tr th {\n",
       "        vertical-align: top;\n",
       "    }\n",
       "\n",
       "    .dataframe thead th {\n",
       "        text-align: right;\n",
       "    }\n",
       "</style>\n",
       "<table border=\"1\" class=\"dataframe\">\n",
       "  <thead>\n",
       "    <tr style=\"text-align: right;\">\n",
       "      <th></th>\n",
       "      <th>id</th>\n",
       "      <th>alias</th>\n",
       "      <th>name</th>\n",
       "      <th>image_url</th>\n",
       "      <th>is_closed</th>\n",
       "      <th>url</th>\n",
       "      <th>review_count</th>\n",
       "      <th>categories</th>\n",
       "      <th>rating</th>\n",
       "      <th>coordinates</th>\n",
       "      <th>transactions</th>\n",
       "      <th>location</th>\n",
       "      <th>phone</th>\n",
       "      <th>display_phone</th>\n",
       "      <th>distance</th>\n",
       "      <th>price</th>\n",
       "    </tr>\n",
       "  </thead>\n",
       "  <tbody>\n",
       "    <tr>\n",
       "      <th>30</th>\n",
       "      <td>t0f8qXrKGNWv6j8MGmosRg</td>\n",
       "      <td>caffé-bene-urbana-3</td>\n",
       "      <td>Caffé Bene</td>\n",
       "      <td>https://s3-media4.fl.yelpcdn.com/bphoto/IFqwV2...</td>\n",
       "      <td>False</td>\n",
       "      <td>https://www.yelp.com/biz/caff%C3%A9-bene-urban...</td>\n",
       "      <td>76</td>\n",
       "      <td>[{'alias': 'coffee', 'title': 'Coffee &amp; Tea'},...</td>\n",
       "      <td>3.0</td>\n",
       "      <td>{'latitude': 40.106139, 'longitude': -88.221243}</td>\n",
       "      <td>[pickup, delivery]</td>\n",
       "      <td>{'address1': '700 S Gregory St', 'address2': '...</td>\n",
       "      <td>+12179178000</td>\n",
       "      <td>(217) 917-8000</td>\n",
       "      <td>4823.970165</td>\n",
       "      <td>$$</td>\n",
       "    </tr>\n",
       "    <tr>\n",
       "      <th>31</th>\n",
       "      <td>FeXsYKhyJ7F8t0-kn5JldQ</td>\n",
       "      <td>schnucks-urbana-urbana-2</td>\n",
       "      <td>Schnucks Urbana</td>\n",
       "      <td>https://s3-media3.fl.yelpcdn.com/bphoto/2pHvIY...</td>\n",
       "      <td>False</td>\n",
       "      <td>https://www.yelp.com/biz/schnucks-urbana-urban...</td>\n",
       "      <td>30</td>\n",
       "      <td>[{'alias': 'grocery', 'title': 'Grocery'}]</td>\n",
       "      <td>3.0</td>\n",
       "      <td>{'latitude': 40.1139865, 'longitude': -88.2033...</td>\n",
       "      <td>[]</td>\n",
       "      <td>{'address1': '200 N Vine St', 'address2': '', ...</td>\n",
       "      <td>+12173376016</td>\n",
       "      <td>(217) 337-6016</td>\n",
       "      <td>6284.314756</td>\n",
       "      <td>$$</td>\n",
       "    </tr>\n",
       "    <tr>\n",
       "      <th>32</th>\n",
       "      <td>IYASJOu_TXz8PpPbt-Clbg</td>\n",
       "      <td>sushi-san-urbana</td>\n",
       "      <td>Sushi San</td>\n",
       "      <td></td>\n",
       "      <td>False</td>\n",
       "      <td>https://www.yelp.com/biz/sushi-san-urbana?adju...</td>\n",
       "      <td>4</td>\n",
       "      <td>[{'alias': 'restaurants', 'title': 'Restaurant...</td>\n",
       "      <td>2.5</td>\n",
       "      <td>{'latitude': 40.11025, 'longitude': -88.22715}</td>\n",
       "      <td>[]</td>\n",
       "      <td>{'address1': '1401 W Green St', 'address2': ''...</td>\n",
       "      <td>+12173281886</td>\n",
       "      <td>(217) 328-1886</td>\n",
       "      <td>4276.199996</td>\n",
       "      <td>$</td>\n",
       "    </tr>\n",
       "    <tr>\n",
       "      <th>33</th>\n",
       "      <td>0aA5l11oXes0aS6mkN5lMQ</td>\n",
       "      <td>szechuan-china-champaign</td>\n",
       "      <td>Szechuan China</td>\n",
       "      <td>https://s3-media2.fl.yelpcdn.com/bphoto/Oh-Vs6...</td>\n",
       "      <td>False</td>\n",
       "      <td>https://www.yelp.com/biz/szechuan-china-champa...</td>\n",
       "      <td>54</td>\n",
       "      <td>[{'alias': 'szechuan', 'title': 'Szechuan'}]</td>\n",
       "      <td>2.5</td>\n",
       "      <td>{'latitude': 40.1128, 'longitude': -88.239095}</td>\n",
       "      <td>[pickup, delivery]</td>\n",
       "      <td>{'address1': '401 S 1st St', 'address2': '', '...</td>\n",
       "      <td>+12173989999</td>\n",
       "      <td>(217) 398-9999</td>\n",
       "      <td>3234.115005</td>\n",
       "      <td>$$</td>\n",
       "    </tr>\n",
       "    <tr>\n",
       "      <th>34</th>\n",
       "      <td>U_94mqL35HOyfAbj2LADIg</td>\n",
       "      <td>the-poké-shack-urbana</td>\n",
       "      <td>The Poké Shack</td>\n",
       "      <td></td>\n",
       "      <td>False</td>\n",
       "      <td>https://www.yelp.com/biz/the-pok%C3%A9-shack-u...</td>\n",
       "      <td>2</td>\n",
       "      <td>[{'alias': 'poke', 'title': 'Poke'}, {'alias':...</td>\n",
       "      <td>3.0</td>\n",
       "      <td>{'latitude': 40.11519, 'longitude': -88.20804}</td>\n",
       "      <td>[]</td>\n",
       "      <td>{'address1': '401 N Broadway Ave', 'address2':...</td>\n",
       "      <td></td>\n",
       "      <td></td>\n",
       "      <td>5875.524751</td>\n",
       "      <td>NaN</td>\n",
       "    </tr>\n",
       "  </tbody>\n",
       "</table>\n",
       "</div>"
      ],
      "text/plain": [
       "                        id                     alias             name  \\\n",
       "30  t0f8qXrKGNWv6j8MGmosRg       caffé-bene-urbana-3       Caffé Bene   \n",
       "31  FeXsYKhyJ7F8t0-kn5JldQ  schnucks-urbana-urbana-2  Schnucks Urbana   \n",
       "32  IYASJOu_TXz8PpPbt-Clbg          sushi-san-urbana        Sushi San   \n",
       "33  0aA5l11oXes0aS6mkN5lMQ  szechuan-china-champaign   Szechuan China   \n",
       "34  U_94mqL35HOyfAbj2LADIg     the-poké-shack-urbana   The Poké Shack   \n",
       "\n",
       "                                            image_url  is_closed  \\\n",
       "30  https://s3-media4.fl.yelpcdn.com/bphoto/IFqwV2...      False   \n",
       "31  https://s3-media3.fl.yelpcdn.com/bphoto/2pHvIY...      False   \n",
       "32                                                         False   \n",
       "33  https://s3-media2.fl.yelpcdn.com/bphoto/Oh-Vs6...      False   \n",
       "34                                                         False   \n",
       "\n",
       "                                                  url  review_count  \\\n",
       "30  https://www.yelp.com/biz/caff%C3%A9-bene-urban...            76   \n",
       "31  https://www.yelp.com/biz/schnucks-urbana-urban...            30   \n",
       "32  https://www.yelp.com/biz/sushi-san-urbana?adju...             4   \n",
       "33  https://www.yelp.com/biz/szechuan-china-champa...            54   \n",
       "34  https://www.yelp.com/biz/the-pok%C3%A9-shack-u...             2   \n",
       "\n",
       "                                           categories  rating  \\\n",
       "30  [{'alias': 'coffee', 'title': 'Coffee & Tea'},...     3.0   \n",
       "31         [{'alias': 'grocery', 'title': 'Grocery'}]     3.0   \n",
       "32  [{'alias': 'restaurants', 'title': 'Restaurant...     2.5   \n",
       "33       [{'alias': 'szechuan', 'title': 'Szechuan'}]     2.5   \n",
       "34  [{'alias': 'poke', 'title': 'Poke'}, {'alias':...     3.0   \n",
       "\n",
       "                                          coordinates        transactions  \\\n",
       "30   {'latitude': 40.106139, 'longitude': -88.221243}  [pickup, delivery]   \n",
       "31  {'latitude': 40.1139865, 'longitude': -88.2033...                  []   \n",
       "32     {'latitude': 40.11025, 'longitude': -88.22715}                  []   \n",
       "33     {'latitude': 40.1128, 'longitude': -88.239095}  [pickup, delivery]   \n",
       "34     {'latitude': 40.11519, 'longitude': -88.20804}                  []   \n",
       "\n",
       "                                             location         phone  \\\n",
       "30  {'address1': '700 S Gregory St', 'address2': '...  +12179178000   \n",
       "31  {'address1': '200 N Vine St', 'address2': '', ...  +12173376016   \n",
       "32  {'address1': '1401 W Green St', 'address2': ''...  +12173281886   \n",
       "33  {'address1': '401 S 1st St', 'address2': '', '...  +12173989999   \n",
       "34  {'address1': '401 N Broadway Ave', 'address2':...                 \n",
       "\n",
       "     display_phone     distance price  \n",
       "30  (217) 917-8000  4823.970165    $$  \n",
       "31  (217) 337-6016  6284.314756    $$  \n",
       "32  (217) 328-1886  4276.199996     $  \n",
       "33  (217) 398-9999  3234.115005    $$  \n",
       "34                  5875.524751   NaN  "
      ]
     },
     "metadata": {},
     "output_type": "display_data"
    }
   ],
   "source": [
    "final_df = pd.read_json(JSON_FILE)\n",
    "display(final_df.head(), final_df.tail())"
   ]
  },
  {
   "cell_type": "markdown",
   "id": "bea2f243",
   "metadata": {},
   "source": [
    "## Check for duplicates"
   ]
  },
  {
   "cell_type": "code",
   "execution_count": 13,
   "id": "2d055fcc",
   "metadata": {},
   "outputs": [
    {
     "data": {
      "text/plain": [
       "0"
      ]
     },
     "execution_count": 13,
     "metadata": {},
     "output_type": "execute_result"
    }
   ],
   "source": [
    "final_df.duplicated(subset='id').sum()"
   ]
  },
  {
   "cell_type": "code",
   "execution_count": 14,
   "id": "f94a7057",
   "metadata": {},
   "outputs": [],
   "source": [
    "final_df.to_csv('Data/final_results_Champaign_Sushi.csv.gz', compression='gzip',index=False)"
   ]
  }
 ],
 "metadata": {
  "kernelspec": {
   "display_name": "Python (dojo-env)",
   "language": "python",
   "name": "dojo-env"
  },
  "language_info": {
   "codemirror_mode": {
    "name": "ipython",
    "version": 3
   },
   "file_extension": ".py",
   "mimetype": "text/x-python",
   "name": "python",
   "nbconvert_exporter": "python",
   "pygments_lexer": "ipython3",
   "version": "3.9.15"
  },
  "toc": {
   "base_numbering": 1,
   "nav_menu": {},
   "number_sections": true,
   "sideBar": true,
   "skip_h1_title": false,
   "title_cell": "Table of Contents",
   "title_sidebar": "Contents",
   "toc_cell": false,
   "toc_position": {},
   "toc_section_display": true,
   "toc_window_display": false
  }
 },
 "nbformat": 4,
 "nbformat_minor": 5
}
