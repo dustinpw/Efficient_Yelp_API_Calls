{
 "cells": [
  {
   "cell_type": "markdown",
   "id": "3ea80cea",
   "metadata": {},
   "source": [
    "## Imports and credentials"
   ]
  },
  {
   "cell_type": "code",
   "execution_count": 1,
   "id": "dedeb4c9",
   "metadata": {},
   "outputs": [
    {
     "data": {
      "text/plain": [
       "dict_keys(['client-id', 'api-key'])"
      ]
     },
     "execution_count": 1,
     "metadata": {},
     "output_type": "execute_result"
    }
   ],
   "source": [
    "# Standard Imports\n",
    "import numpy as np\n",
    "import pandas as pd\n",
    "import matplotlib.pyplot as plt\n",
    "import seaborn as sns\n",
    "\n",
    "# Additional Imports\n",
    "import os, json, math, time\n",
    "from yelpapi import YelpAPI\n",
    "from tqdm.notebook import tqdm_notebook\n",
    "\n",
    "with open('/Users/dusti/.secret/yelp_api.json') as f: \n",
    "    login = json.load(f)\n",
    "login.keys()"
   ]
  },
  {
   "cell_type": "code",
   "execution_count": 2,
   "id": "31fdca4e",
   "metadata": {},
   "outputs": [
    {
     "data": {
      "text/plain": [
       "<yelpapi.yelpapi.YelpAPI at 0x1241dbd8df0>"
      ]
     },
     "execution_count": 2,
     "metadata": {},
     "output_type": "execute_result"
    }
   ],
   "source": [
    "yelp_api = YelpAPI(login['api-key'], timeout_s=5.0)\n",
    "\n",
    "yelp_api"
   ]
  },
  {
   "cell_type": "markdown",
   "id": "a97538f2",
   "metadata": {},
   "source": [
    "## Define search"
   ]
  },
  {
   "cell_type": "code",
   "execution_count": 3,
   "id": "11f13b2d",
   "metadata": {},
   "outputs": [],
   "source": [
    "LOCATION = 'Chicago, IL'\n",
    "TERM = 'Burger'"
   ]
  },
  {
   "cell_type": "code",
   "execution_count": 4,
   "id": "a9cc95e8",
   "metadata": {},
   "outputs": [
    {
     "data": {
      "text/plain": [
       "'Data/results_in_progress_Chicago_burger.json'"
      ]
     },
     "execution_count": 4,
     "metadata": {},
     "output_type": "execute_result"
    }
   ],
   "source": [
    "JSON_FILE = \"Data/results_in_progress_Chicago_burger.json\"\n",
    "JSON_FILE"
   ]
  },
  {
   "cell_type": "code",
   "execution_count": 5,
   "id": "92db69ff",
   "metadata": {},
   "outputs": [
    {
     "name": "stdout",
     "output_type": "stream",
     "text": [
      "[i] Data/results_in_progress_Chicago_burger.json already exists.\n"
     ]
    }
   ],
   "source": [
    "file_exists = os.path.isfile(JSON_FILE)\n",
    "\n",
    "if file_exists == False:\n",
    "    \n",
    "\n",
    "    folder = os.path.dirname(JSON_FILE)\n",
    "    \n",
    "    if len(folder)>0:\n",
    "        \n",
    "        os.makedirs(folder,exist_ok=True)\n",
    "        \n",
    "        \n",
    "    \n",
    "    print(f'[i] {JSON_FILE} not found. Saving empty list to file.')\n",
    "    \n",
    "    \n",
    "    \n",
    "    with open(JSON_FILE,'w') as f:\n",
    "        json.dump([],f)  \n",
    "\n",
    "else:\n",
    "    print(f\"[i] {JSON_FILE} already exists.\")"
   ]
  },
  {
   "cell_type": "markdown",
   "id": "adc3ccb7",
   "metadata": {},
   "source": [
    "## Determine how many results are already in the file"
   ]
  },
  {
   "cell_type": "code",
   "execution_count": 6,
   "id": "99a31e15",
   "metadata": {},
   "outputs": [
    {
     "name": "stdout",
     "output_type": "stream",
     "text": [
      "- 1000 previous results found.\n"
     ]
    }
   ],
   "source": [
    "with open(JSON_FILE,'r') as f:\n",
    "    previous_results = json.load(f)\n",
    "    \n",
    "\n",
    "n_results = len(previous_results)\n",
    "print(f'- {n_results} previous results found.')"
   ]
  },
  {
   "cell_type": "markdown",
   "id": "4daef809",
   "metadata": {},
   "source": [
    "## Determine how many pages needed"
   ]
  },
  {
   "cell_type": "code",
   "execution_count": 7,
   "id": "3b4e2cdc",
   "metadata": {},
   "outputs": [
    {
     "ename": "YelpAPIError",
     "evalue": "VALIDATION_ERROR: Too many results requested, limit+offset must be <= 1000.",
     "output_type": "error",
     "traceback": [
      "\u001b[1;31m---------------------------------------------------------------------------\u001b[0m",
      "\u001b[1;31mYelpAPIError\u001b[0m                              Traceback (most recent call last)",
      "Cell \u001b[1;32mIn [7], line 1\u001b[0m\n\u001b[1;32m----> 1\u001b[0m results \u001b[38;5;241m=\u001b[39m \u001b[43myelp_api\u001b[49m\u001b[38;5;241;43m.\u001b[39;49m\u001b[43msearch_query\u001b[49m\u001b[43m(\u001b[49m\u001b[43mlocation\u001b[49m\u001b[38;5;241;43m=\u001b[39;49m\u001b[43mLOCATION\u001b[49m\u001b[43m,\u001b[49m\n\u001b[0;32m      2\u001b[0m \u001b[43m                                \u001b[49m\u001b[43mterm\u001b[49m\u001b[38;5;241;43m=\u001b[39;49m\u001b[43mTERM\u001b[49m\u001b[43m,\u001b[49m\n\u001b[0;32m      3\u001b[0m \u001b[43m                               \u001b[49m\u001b[43moffset\u001b[49m\u001b[38;5;241;43m=\u001b[39;49m\u001b[43mn_results\u001b[49m\u001b[43m)\u001b[49m\n\u001b[0;32m      4\u001b[0m results\u001b[38;5;241m.\u001b[39mkeys()\n",
      "File \u001b[1;32m~\\anaconda3\\envs\\dojo-env\\lib\\site-packages\\yelpapi\\yelpapi.py:251\u001b[0m, in \u001b[0;36mYelpAPI.search_query\u001b[1;34m(self, **kwargs)\u001b[0m\n\u001b[0;32m    247\u001b[0m \u001b[38;5;28;01mif\u001b[39;00m \u001b[38;5;129;01mnot\u001b[39;00m kwargs\u001b[38;5;241m.\u001b[39mget(\u001b[38;5;124m'\u001b[39m\u001b[38;5;124mlocation\u001b[39m\u001b[38;5;124m'\u001b[39m) \u001b[38;5;129;01mand\u001b[39;00m (\u001b[38;5;129;01mnot\u001b[39;00m kwargs\u001b[38;5;241m.\u001b[39mget(\u001b[38;5;124m'\u001b[39m\u001b[38;5;124mlatitude\u001b[39m\u001b[38;5;124m'\u001b[39m) \u001b[38;5;129;01mor\u001b[39;00m \u001b[38;5;129;01mnot\u001b[39;00m kwargs\u001b[38;5;241m.\u001b[39mget(\u001b[38;5;124m'\u001b[39m\u001b[38;5;124mlongitude\u001b[39m\u001b[38;5;124m'\u001b[39m)):\n\u001b[0;32m    248\u001b[0m     \u001b[38;5;28;01mraise\u001b[39;00m \u001b[38;5;167;01mValueError\u001b[39;00m(\u001b[38;5;124m'\u001b[39m\u001b[38;5;124mA valid location (parameter \u001b[39m\u001b[38;5;124m\"\u001b[39m\u001b[38;5;124mlocation\u001b[39m\u001b[38;5;124m\"\u001b[39m\u001b[38;5;124m) or latitude/longitude combination \u001b[39m\u001b[38;5;124m'\u001b[39m\n\u001b[0;32m    249\u001b[0m                      \u001b[38;5;124m'\u001b[39m\u001b[38;5;124m(parameters \u001b[39m\u001b[38;5;124m\"\u001b[39m\u001b[38;5;124mlatitude\u001b[39m\u001b[38;5;124m\"\u001b[39m\u001b[38;5;124m and \u001b[39m\u001b[38;5;124m\"\u001b[39m\u001b[38;5;124mlongitude\u001b[39m\u001b[38;5;124m\"\u001b[39m\u001b[38;5;124m) must be provided.\u001b[39m\u001b[38;5;124m'\u001b[39m)\n\u001b[1;32m--> 251\u001b[0m \u001b[38;5;28;01mreturn\u001b[39;00m \u001b[38;5;28mself\u001b[39m\u001b[38;5;241m.\u001b[39m_query(SEARCH_API_URL, \u001b[38;5;241m*\u001b[39m\u001b[38;5;241m*\u001b[39mkwargs)\n",
      "File \u001b[1;32m~\\anaconda3\\envs\\dojo-env\\lib\\site-packages\\yelpapi\\yelpapi.py:299\u001b[0m, in \u001b[0;36mYelpAPI._query\u001b[1;34m(self, url, **kwargs)\u001b[0m\n\u001b[0;32m    295\u001b[0m \u001b[38;5;66;03m# Yelp can return one of many different API errors, so check for one of them.\u001b[39;00m\n\u001b[0;32m    296\u001b[0m \u001b[38;5;66;03m# The Yelp Fusion API does not yet have a complete list of errors, but this is on the TODO list; see\u001b[39;00m\n\u001b[0;32m    297\u001b[0m \u001b[38;5;66;03m# https://github.com/Yelp/yelp-fusion/issues/95 for more info.\u001b[39;00m\n\u001b[0;32m    298\u001b[0m \u001b[38;5;28;01mif\u001b[39;00m \u001b[38;5;124m'\u001b[39m\u001b[38;5;124merror\u001b[39m\u001b[38;5;124m'\u001b[39m \u001b[38;5;129;01min\u001b[39;00m response_json:\n\u001b[1;32m--> 299\u001b[0m     \u001b[38;5;28;01mraise\u001b[39;00m YelpAPI\u001b[38;5;241m.\u001b[39mYelpAPIError(\u001b[38;5;124m'\u001b[39m\u001b[38;5;132;01m{}\u001b[39;00m\u001b[38;5;124m: \u001b[39m\u001b[38;5;132;01m{}\u001b[39;00m\u001b[38;5;124m'\u001b[39m\u001b[38;5;241m.\u001b[39mformat(response_json[\u001b[38;5;124m'\u001b[39m\u001b[38;5;124merror\u001b[39m\u001b[38;5;124m'\u001b[39m][\u001b[38;5;124m'\u001b[39m\u001b[38;5;124mcode\u001b[39m\u001b[38;5;124m'\u001b[39m],\n\u001b[0;32m    300\u001b[0m                                                response_json[\u001b[38;5;124m'\u001b[39m\u001b[38;5;124merror\u001b[39m\u001b[38;5;124m'\u001b[39m][\u001b[38;5;124m'\u001b[39m\u001b[38;5;124mdescription\u001b[39m\u001b[38;5;124m'\u001b[39m]))\n\u001b[0;32m    302\u001b[0m \u001b[38;5;66;03m# we got a good response, so return\u001b[39;00m\n\u001b[0;32m    303\u001b[0m \u001b[38;5;28;01mreturn\u001b[39;00m response_json\n",
      "\u001b[1;31mYelpAPIError\u001b[0m: VALIDATION_ERROR: Too many results requested, limit+offset must be <= 1000."
     ]
    }
   ],
   "source": [
    "results = yelp_api.search_query(location=LOCATION,\n",
    "                                term=TERM,\n",
    "                               offset=n_results)\n",
    "results.keys()"
   ]
  },
  {
   "cell_type": "markdown",
   "id": "b32d0bd8",
   "metadata": {},
   "source": [
    "## Delete previous results file"
   ]
  },
  {
   "cell_type": "code",
   "execution_count": 8,
   "id": "1f021e6d",
   "metadata": {},
   "outputs": [
    {
     "data": {
      "text/plain": [
       "False"
      ]
     },
     "execution_count": 8,
     "metadata": {},
     "output_type": "execute_result"
    }
   ],
   "source": [
    "os.remove(JSON_FILE)\n",
    "os.path.isfile(JSON_FILE)"
   ]
  },
  {
   "cell_type": "markdown",
   "id": "50e26ce9",
   "metadata": {},
   "source": [
    "## Re-run code with new function"
   ]
  },
  {
   "cell_type": "code",
   "execution_count": 9,
   "id": "8eaef546",
   "metadata": {},
   "outputs": [],
   "source": [
    "import os\n",
    "import json\n",
    "\n",
    "def create_json_file(JSON_FILE, delete_if_exists=False):\n",
    "    \n",
    "    ## Check if JSON_FILE exists\n",
    "    file_exists = os.path.isfile(JSON_FILE)\n",
    "    \n",
    "    ## If it DOES exist:\n",
    "    if file_exists == True:\n",
    "        \n",
    "        ## Check if user wants to delete if exists\n",
    "        if delete_if_exists==True:\n",
    "            \n",
    "            print(f\"[!] {JSON_FILE} already exists. Deleting previous file...\")\n",
    "            ## delete file and confirm it no longer exits.\n",
    "            os.remove(JSON_FILE)\n",
    "            ## Recursive call to function after old file deleted\n",
    "            create_json_file(JSON_FILE,delete_if_exists=False)\n",
    "        else:\n",
    "            print(f\"[i] {JSON_FILE} already exists.\")            \n",
    "            \n",
    "            \n",
    "    ## If it does NOT exist:\n",
    "    else:\n",
    "        \n",
    "        ## INFORM USER AND SAVE EMPTY LIST\n",
    "        print(f\"[i] {JSON_FILE} not found. Saving empty list to new file.\")\n",
    "        \n",
    "        ## CREATE ANY NEEDED FOLDERS\n",
    "        # Get the Folder Name only\n",
    "        folder = os.path.dirname(JSON_FILE)\n",
    "        \n",
    "        ## If JSON_FILE included a folder:\n",
    "        if len(folder)>0:\n",
    "            # create the folder\n",
    "            os.makedirs(folder,exist_ok=True)\n",
    "        ## Save empty list to start the json file\n",
    "        with open(JSON_FILE,'w') as f:\n",
    "            json.dump([],f)"
   ]
  },
  {
   "cell_type": "code",
   "execution_count": 10,
   "id": "c6a535e0",
   "metadata": {},
   "outputs": [
    {
     "name": "stdout",
     "output_type": "stream",
     "text": [
      "[i] Data/results_in_progress_Chicago_burger.json not found. Saving empty list to new file.\n",
      "- 0 previous results found.\n"
     ]
    },
    {
     "data": {
      "text/plain": [
       "415"
      ]
     },
     "execution_count": 10,
     "metadata": {},
     "output_type": "execute_result"
    }
   ],
   "source": [
    "## Create a new empty json file (exist the previous if it exists)\n",
    "create_json_file(JSON_FILE, delete_if_exists=True)\n",
    "## Load previous results and use len of results for offset\n",
    "with open(JSON_FILE,'r') as f:\n",
    "    previous_results = json.load(f)\n",
    "    \n",
    "## set offset based on previous results\n",
    "n_results = len(previous_results)\n",
    "print(f'- {n_results} previous results found.')\n",
    "# use our yelp_api variable's search_query method to perform our API call\n",
    "results = yelp_api.search_query(location=LOCATION,\n",
    "                                term=TERM,\n",
    "                               offset=n_results)\n",
    "## How many results total?\n",
    "total_results = results['total']\n",
    "## How many did we get the details for?\n",
    "results_per_page = len(results['businesses'])\n",
    "# Use math.ceil to round up for the total number of pages of results.\n",
    "n_pages = math.ceil((results['total']-n_results)/ results_per_page)\n",
    "n_pages"
   ]
  },
  {
   "cell_type": "code",
   "execution_count": 11,
   "id": "5653b3a7",
   "metadata": {},
   "outputs": [
    {
     "data": {
      "application/vnd.jupyter.widget-view+json": {
       "model_id": "7f25e339521842b6802255a020e25ae1",
       "version_major": 2,
       "version_minor": 0
      },
      "text/plain": [
       "  0%|          | 0/415 [00:00<?, ?it/s]"
      ]
     },
     "metadata": {},
     "output_type": "display_data"
    },
    {
     "name": "stdout",
     "output_type": "stream",
     "text": [
      "Exceeded 1000 api calls. Stopping loop.\n"
     ]
    }
   ],
   "source": [
    "for i in tqdm_notebook( range(1,n_pages+1)):\n",
    "    \n",
    "    ## Read in results in progress file and check the length\n",
    "    with open(JSON_FILE, 'r') as f:\n",
    "        previous_results = json.load(f)\n",
    "    ## save number of results for to use as offset\n",
    "    n_results = len(previous_results)\n",
    "    \n",
    "    if (n_results + results_per_page) > 1000:\n",
    "        print('Exceeded 1000 api calls. Stopping loop.')\n",
    "        break\n",
    "    \n",
    "    ## use n_results as the OFFSET \n",
    "    results = yelp_api.search_query(location=LOCATION,\n",
    "                                    term=TERM, \n",
    "                                    offset=n_results)\n",
    "    \n",
    "    \n",
    "    \n",
    "    ## append new results and save to file\n",
    "    previous_results.extend(results['businesses'])\n",
    "    \n",
    "    # display(previous_results)\n",
    "    with open(JSON_FILE,'w') as f:\n",
    "        json.dump(previous_results,f)\n",
    "    \n",
    "    time.sleep(.2)"
   ]
  },
  {
   "cell_type": "markdown",
   "id": "c68e45c0",
   "metadata": {},
   "source": [
    "## Convert .json to df"
   ]
  },
  {
   "cell_type": "code",
   "execution_count": 12,
   "id": "f2297abb",
   "metadata": {},
   "outputs": [
    {
     "data": {
      "text/html": [
       "<div>\n",
       "<style scoped>\n",
       "    .dataframe tbody tr th:only-of-type {\n",
       "        vertical-align: middle;\n",
       "    }\n",
       "\n",
       "    .dataframe tbody tr th {\n",
       "        vertical-align: top;\n",
       "    }\n",
       "\n",
       "    .dataframe thead th {\n",
       "        text-align: right;\n",
       "    }\n",
       "</style>\n",
       "<table border=\"1\" class=\"dataframe\">\n",
       "  <thead>\n",
       "    <tr style=\"text-align: right;\">\n",
       "      <th></th>\n",
       "      <th>id</th>\n",
       "      <th>alias</th>\n",
       "      <th>name</th>\n",
       "      <th>image_url</th>\n",
       "      <th>is_closed</th>\n",
       "      <th>url</th>\n",
       "      <th>review_count</th>\n",
       "      <th>categories</th>\n",
       "      <th>rating</th>\n",
       "      <th>coordinates</th>\n",
       "      <th>transactions</th>\n",
       "      <th>price</th>\n",
       "      <th>location</th>\n",
       "      <th>phone</th>\n",
       "      <th>display_phone</th>\n",
       "      <th>distance</th>\n",
       "    </tr>\n",
       "  </thead>\n",
       "  <tbody>\n",
       "    <tr>\n",
       "      <th>0</th>\n",
       "      <td>xoi7Cw7FoknAx5p880RtWQ</td>\n",
       "      <td>au-cheval-chicago</td>\n",
       "      <td>Au Cheval</td>\n",
       "      <td>https://s3-media1.fl.yelpcdn.com/bphoto/ciecqv...</td>\n",
       "      <td>False</td>\n",
       "      <td>https://www.yelp.com/biz/au-cheval-chicago?adj...</td>\n",
       "      <td>8264</td>\n",
       "      <td>[{'alias': 'bars', 'title': 'Bars'}, {'alias':...</td>\n",
       "      <td>4.5</td>\n",
       "      <td>{'latitude': 41.88466, 'longitude': -87.647668}</td>\n",
       "      <td>[delivery, pickup]</td>\n",
       "      <td>$$</td>\n",
       "      <td>{'address1': '800 W Randolph St', 'address2': ...</td>\n",
       "      <td>+13129294580</td>\n",
       "      <td>(312) 929-4580</td>\n",
       "      <td>9071.234078</td>\n",
       "    </tr>\n",
       "    <tr>\n",
       "      <th>1</th>\n",
       "      <td>qxSpiDvad8awYWYZHNoPyQ</td>\n",
       "      <td>nadc-burger-chicago</td>\n",
       "      <td>NADC Burger</td>\n",
       "      <td>https://s3-media1.fl.yelpcdn.com/bphoto/1sRP-X...</td>\n",
       "      <td>False</td>\n",
       "      <td>https://www.yelp.com/biz/nadc-burger-chicago?a...</td>\n",
       "      <td>8</td>\n",
       "      <td>[{'alias': 'burgers', 'title': 'Burgers'}]</td>\n",
       "      <td>4.5</td>\n",
       "      <td>{'latitude': 41.889635, 'longitude': -87.644829}</td>\n",
       "      <td>[]</td>\n",
       "      <td>NaN</td>\n",
       "      <td>{'address1': '415 N Milwaukee Ave', 'address2'...</td>\n",
       "      <td></td>\n",
       "      <td></td>\n",
       "      <td>9610.884910</td>\n",
       "    </tr>\n",
       "    <tr>\n",
       "      <th>2</th>\n",
       "      <td>vLNDwB7xaqE5OsmZ0Y3gng</td>\n",
       "      <td>salt-burgers-fries-chicago</td>\n",
       "      <td>Salt Burgers + Fries</td>\n",
       "      <td>https://s3-media2.fl.yelpcdn.com/bphoto/PwsZTc...</td>\n",
       "      <td>False</td>\n",
       "      <td>https://www.yelp.com/biz/salt-burgers-fries-ch...</td>\n",
       "      <td>114</td>\n",
       "      <td>[{'alias': 'burgers', 'title': 'Burgers'}, {'a...</td>\n",
       "      <td>4.0</td>\n",
       "      <td>{'latitude': 41.91072, 'longitude': -87.67592}</td>\n",
       "      <td>[delivery, pickup]</td>\n",
       "      <td>$$</td>\n",
       "      <td>{'address1': '1920 W North Ave', 'address2': N...</td>\n",
       "      <td>+13127865929</td>\n",
       "      <td>(312) 786-5929</td>\n",
       "      <td>9877.807949</td>\n",
       "    </tr>\n",
       "    <tr>\n",
       "      <th>3</th>\n",
       "      <td>9mhqcimD0CYvqxzfj_VXnQ</td>\n",
       "      <td>little-bad-wolf-chicago</td>\n",
       "      <td>Little Bad Wolf</td>\n",
       "      <td>https://s3-media3.fl.yelpcdn.com/bphoto/aN7fWm...</td>\n",
       "      <td>False</td>\n",
       "      <td>https://www.yelp.com/biz/little-bad-wolf-chica...</td>\n",
       "      <td>2007</td>\n",
       "      <td>[{'alias': 'tradamerican', 'title': 'American ...</td>\n",
       "      <td>4.5</td>\n",
       "      <td>{'latitude': 41.983356, 'longitude': -87.669057}</td>\n",
       "      <td>[delivery, pickup]</td>\n",
       "      <td>$$</td>\n",
       "      <td>{'address1': '1541 W Bryn Mawr Ave', 'address2...</td>\n",
       "      <td>+17739426399</td>\n",
       "      <td>(773) 942-6399</td>\n",
       "      <td>17601.237441</td>\n",
       "    </tr>\n",
       "    <tr>\n",
       "      <th>4</th>\n",
       "      <td>7Es7EbTy_s1btAdowLeiPQ</td>\n",
       "      <td>small-cheval-wicker-park-chicago</td>\n",
       "      <td>Small Cheval- Wicker Park</td>\n",
       "      <td>https://s3-media3.fl.yelpcdn.com/bphoto/oyVPVN...</td>\n",
       "      <td>False</td>\n",
       "      <td>https://www.yelp.com/biz/small-cheval-wicker-p...</td>\n",
       "      <td>1363</td>\n",
       "      <td>[{'alias': 'burgers', 'title': 'Burgers'}, {'a...</td>\n",
       "      <td>4.5</td>\n",
       "      <td>{'latitude': 41.9128227233887, 'longitude': -8...</td>\n",
       "      <td>[delivery, pickup]</td>\n",
       "      <td>$$</td>\n",
       "      <td>{'address1': '1732 N Milwaukee Ave', 'address2...</td>\n",
       "      <td>+13128373859</td>\n",
       "      <td>(312) 837-3859</td>\n",
       "      <td>9889.764457</td>\n",
       "    </tr>\n",
       "  </tbody>\n",
       "</table>\n",
       "</div>"
      ],
      "text/plain": [
       "                       id                             alias  \\\n",
       "0  xoi7Cw7FoknAx5p880RtWQ                 au-cheval-chicago   \n",
       "1  qxSpiDvad8awYWYZHNoPyQ               nadc-burger-chicago   \n",
       "2  vLNDwB7xaqE5OsmZ0Y3gng        salt-burgers-fries-chicago   \n",
       "3  9mhqcimD0CYvqxzfj_VXnQ           little-bad-wolf-chicago   \n",
       "4  7Es7EbTy_s1btAdowLeiPQ  small-cheval-wicker-park-chicago   \n",
       "\n",
       "                        name  \\\n",
       "0                  Au Cheval   \n",
       "1                NADC Burger   \n",
       "2       Salt Burgers + Fries   \n",
       "3            Little Bad Wolf   \n",
       "4  Small Cheval- Wicker Park   \n",
       "\n",
       "                                           image_url  is_closed  \\\n",
       "0  https://s3-media1.fl.yelpcdn.com/bphoto/ciecqv...      False   \n",
       "1  https://s3-media1.fl.yelpcdn.com/bphoto/1sRP-X...      False   \n",
       "2  https://s3-media2.fl.yelpcdn.com/bphoto/PwsZTc...      False   \n",
       "3  https://s3-media3.fl.yelpcdn.com/bphoto/aN7fWm...      False   \n",
       "4  https://s3-media3.fl.yelpcdn.com/bphoto/oyVPVN...      False   \n",
       "\n",
       "                                                 url  review_count  \\\n",
       "0  https://www.yelp.com/biz/au-cheval-chicago?adj...          8264   \n",
       "1  https://www.yelp.com/biz/nadc-burger-chicago?a...             8   \n",
       "2  https://www.yelp.com/biz/salt-burgers-fries-ch...           114   \n",
       "3  https://www.yelp.com/biz/little-bad-wolf-chica...          2007   \n",
       "4  https://www.yelp.com/biz/small-cheval-wicker-p...          1363   \n",
       "\n",
       "                                          categories  rating  \\\n",
       "0  [{'alias': 'bars', 'title': 'Bars'}, {'alias':...     4.5   \n",
       "1         [{'alias': 'burgers', 'title': 'Burgers'}]     4.5   \n",
       "2  [{'alias': 'burgers', 'title': 'Burgers'}, {'a...     4.0   \n",
       "3  [{'alias': 'tradamerican', 'title': 'American ...     4.5   \n",
       "4  [{'alias': 'burgers', 'title': 'Burgers'}, {'a...     4.5   \n",
       "\n",
       "                                         coordinates        transactions  \\\n",
       "0    {'latitude': 41.88466, 'longitude': -87.647668}  [delivery, pickup]   \n",
       "1   {'latitude': 41.889635, 'longitude': -87.644829}                  []   \n",
       "2     {'latitude': 41.91072, 'longitude': -87.67592}  [delivery, pickup]   \n",
       "3   {'latitude': 41.983356, 'longitude': -87.669057}  [delivery, pickup]   \n",
       "4  {'latitude': 41.9128227233887, 'longitude': -8...  [delivery, pickup]   \n",
       "\n",
       "  price                                           location         phone  \\\n",
       "0    $$  {'address1': '800 W Randolph St', 'address2': ...  +13129294580   \n",
       "1   NaN  {'address1': '415 N Milwaukee Ave', 'address2'...                 \n",
       "2    $$  {'address1': '1920 W North Ave', 'address2': N...  +13127865929   \n",
       "3    $$  {'address1': '1541 W Bryn Mawr Ave', 'address2...  +17739426399   \n",
       "4    $$  {'address1': '1732 N Milwaukee Ave', 'address2...  +13128373859   \n",
       "\n",
       "    display_phone      distance  \n",
       "0  (312) 929-4580   9071.234078  \n",
       "1                   9610.884910  \n",
       "2  (312) 786-5929   9877.807949  \n",
       "3  (773) 942-6399  17601.237441  \n",
       "4  (312) 837-3859   9889.764457  "
      ]
     },
     "metadata": {},
     "output_type": "display_data"
    },
    {
     "data": {
      "text/html": [
       "<div>\n",
       "<style scoped>\n",
       "    .dataframe tbody tr th:only-of-type {\n",
       "        vertical-align: middle;\n",
       "    }\n",
       "\n",
       "    .dataframe tbody tr th {\n",
       "        vertical-align: top;\n",
       "    }\n",
       "\n",
       "    .dataframe thead th {\n",
       "        text-align: right;\n",
       "    }\n",
       "</style>\n",
       "<table border=\"1\" class=\"dataframe\">\n",
       "  <thead>\n",
       "    <tr style=\"text-align: right;\">\n",
       "      <th></th>\n",
       "      <th>id</th>\n",
       "      <th>alias</th>\n",
       "      <th>name</th>\n",
       "      <th>image_url</th>\n",
       "      <th>is_closed</th>\n",
       "      <th>url</th>\n",
       "      <th>review_count</th>\n",
       "      <th>categories</th>\n",
       "      <th>rating</th>\n",
       "      <th>coordinates</th>\n",
       "      <th>transactions</th>\n",
       "      <th>price</th>\n",
       "      <th>location</th>\n",
       "      <th>phone</th>\n",
       "      <th>display_phone</th>\n",
       "      <th>distance</th>\n",
       "    </tr>\n",
       "  </thead>\n",
       "  <tbody>\n",
       "    <tr>\n",
       "      <th>995</th>\n",
       "      <td>n47jWHED87LNfosn1Ms5_g</td>\n",
       "      <td>pork-and-mindys-chicago-3</td>\n",
       "      <td>Pork &amp; Mindys</td>\n",
       "      <td>https://s3-media1.fl.yelpcdn.com/bphoto/78y8wH...</td>\n",
       "      <td>False</td>\n",
       "      <td>https://www.yelp.com/biz/pork-and-mindys-chica...</td>\n",
       "      <td>2</td>\n",
       "      <td>[{'alias': 'sandwiches', 'title': 'Sandwiches'...</td>\n",
       "      <td>2.0</td>\n",
       "      <td>{'latitude': 41.82474233, 'longitude': -87.616...</td>\n",
       "      <td>[pickup, delivery]</td>\n",
       "      <td>NaN</td>\n",
       "      <td>{'address1': '3857 S Martin Luther King Dr', '...</td>\n",
       "      <td></td>\n",
       "      <td></td>\n",
       "      <td>9591.102053</td>\n",
       "    </tr>\n",
       "    <tr>\n",
       "      <th>996</th>\n",
       "      <td>NG-3BMzPBEf-t7b99Vo8UQ</td>\n",
       "      <td>the-fremont-bar-and-grill-westmont-2</td>\n",
       "      <td>The Fremont Bar &amp; Grill</td>\n",
       "      <td>https://s3-media4.fl.yelpcdn.com/bphoto/RGMpN0...</td>\n",
       "      <td>False</td>\n",
       "      <td>https://www.yelp.com/biz/the-fremont-bar-and-g...</td>\n",
       "      <td>45</td>\n",
       "      <td>[{'alias': 'bars', 'title': 'Bars'}, {'alias':...</td>\n",
       "      <td>4.0</td>\n",
       "      <td>{'latitude': 41.7744428337575, 'longitude': -8...</td>\n",
       "      <td>[delivery]</td>\n",
       "      <td>$$</td>\n",
       "      <td>{'address1': '1115 Fairview Ave', 'address2': ...</td>\n",
       "      <td>+16302978773</td>\n",
       "      <td>(630) 297-8773</td>\n",
       "      <td>22644.474792</td>\n",
       "    </tr>\n",
       "    <tr>\n",
       "      <th>997</th>\n",
       "      <td>fo4BhP2nim2vAY-o3fGGJA</td>\n",
       "      <td>bottoms-up-bar-and-lounge-schiller-park</td>\n",
       "      <td>Bottoms Up Bar &amp; Lounge</td>\n",
       "      <td>https://s3-media2.fl.yelpcdn.com/bphoto/cCp8NZ...</td>\n",
       "      <td>False</td>\n",
       "      <td>https://www.yelp.com/biz/bottoms-up-bar-and-lo...</td>\n",
       "      <td>2</td>\n",
       "      <td>[{'alias': 'bars', 'title': 'Bars'}]</td>\n",
       "      <td>4.5</td>\n",
       "      <td>{'latitude': 41.955555, 'longitude': -87.869395}</td>\n",
       "      <td>[pickup, delivery]</td>\n",
       "      <td>NaN</td>\n",
       "      <td>{'address1': '9718 W Irving Park Rd', 'address...</td>\n",
       "      <td>+12247812298</td>\n",
       "      <td>(224) 781-2298</td>\n",
       "      <td>17860.361243</td>\n",
       "    </tr>\n",
       "    <tr>\n",
       "      <th>998</th>\n",
       "      <td>C5UfBJEvJSG3WXXDHvBBRA</td>\n",
       "      <td>pizza-beer-and-jukebox-chicago</td>\n",
       "      <td>Pizza Beer &amp; Jukebox</td>\n",
       "      <td>https://s3-media3.fl.yelpcdn.com/bphoto/qzI2v_...</td>\n",
       "      <td>False</td>\n",
       "      <td>https://www.yelp.com/biz/pizza-beer-and-jukebo...</td>\n",
       "      <td>178</td>\n",
       "      <td>[{'alias': 'pizza', 'title': 'Pizza'}, {'alias...</td>\n",
       "      <td>4.0</td>\n",
       "      <td>{'latitude': 41.88593, 'longitude': -87.6496}</td>\n",
       "      <td>[pickup, delivery]</td>\n",
       "      <td>$$</td>\n",
       "      <td>{'address1': '205 N Peoria St', 'address2': No...</td>\n",
       "      <td>+13124987080</td>\n",
       "      <td>(312) 498-7080</td>\n",
       "      <td>9038.385264</td>\n",
       "    </tr>\n",
       "    <tr>\n",
       "      <th>999</th>\n",
       "      <td>a3KEZk0jSKiK11LCw8MZeA</td>\n",
       "      <td>eddies-of-arlington-arlington-heights-2</td>\n",
       "      <td>Eddie's of Arlington</td>\n",
       "      <td>https://s3-media1.fl.yelpcdn.com/bphoto/4vYUW9...</td>\n",
       "      <td>False</td>\n",
       "      <td>https://www.yelp.com/biz/eddies-of-arlington-a...</td>\n",
       "      <td>126</td>\n",
       "      <td>[{'alias': 'tradamerican', 'title': 'American ...</td>\n",
       "      <td>4.0</td>\n",
       "      <td>{'latitude': 42.08425, 'longitude': -87.982455}</td>\n",
       "      <td>[delivery]</td>\n",
       "      <td>$</td>\n",
       "      <td>{'address1': '10 E Northwest Hwy', 'address2':...</td>\n",
       "      <td>+18472221223</td>\n",
       "      <td>(847) 222-1223</td>\n",
       "      <td>34899.216430</td>\n",
       "    </tr>\n",
       "  </tbody>\n",
       "</table>\n",
       "</div>"
      ],
      "text/plain": [
       "                         id                                    alias  \\\n",
       "995  n47jWHED87LNfosn1Ms5_g                pork-and-mindys-chicago-3   \n",
       "996  NG-3BMzPBEf-t7b99Vo8UQ     the-fremont-bar-and-grill-westmont-2   \n",
       "997  fo4BhP2nim2vAY-o3fGGJA  bottoms-up-bar-and-lounge-schiller-park   \n",
       "998  C5UfBJEvJSG3WXXDHvBBRA           pizza-beer-and-jukebox-chicago   \n",
       "999  a3KEZk0jSKiK11LCw8MZeA  eddies-of-arlington-arlington-heights-2   \n",
       "\n",
       "                        name  \\\n",
       "995            Pork & Mindys   \n",
       "996  The Fremont Bar & Grill   \n",
       "997  Bottoms Up Bar & Lounge   \n",
       "998     Pizza Beer & Jukebox   \n",
       "999     Eddie's of Arlington   \n",
       "\n",
       "                                             image_url  is_closed  \\\n",
       "995  https://s3-media1.fl.yelpcdn.com/bphoto/78y8wH...      False   \n",
       "996  https://s3-media4.fl.yelpcdn.com/bphoto/RGMpN0...      False   \n",
       "997  https://s3-media2.fl.yelpcdn.com/bphoto/cCp8NZ...      False   \n",
       "998  https://s3-media3.fl.yelpcdn.com/bphoto/qzI2v_...      False   \n",
       "999  https://s3-media1.fl.yelpcdn.com/bphoto/4vYUW9...      False   \n",
       "\n",
       "                                                   url  review_count  \\\n",
       "995  https://www.yelp.com/biz/pork-and-mindys-chica...             2   \n",
       "996  https://www.yelp.com/biz/the-fremont-bar-and-g...            45   \n",
       "997  https://www.yelp.com/biz/bottoms-up-bar-and-lo...             2   \n",
       "998  https://www.yelp.com/biz/pizza-beer-and-jukebo...           178   \n",
       "999  https://www.yelp.com/biz/eddies-of-arlington-a...           126   \n",
       "\n",
       "                                            categories  rating  \\\n",
       "995  [{'alias': 'sandwiches', 'title': 'Sandwiches'...     2.0   \n",
       "996  [{'alias': 'bars', 'title': 'Bars'}, {'alias':...     4.0   \n",
       "997               [{'alias': 'bars', 'title': 'Bars'}]     4.5   \n",
       "998  [{'alias': 'pizza', 'title': 'Pizza'}, {'alias...     4.0   \n",
       "999  [{'alias': 'tradamerican', 'title': 'American ...     4.0   \n",
       "\n",
       "                                           coordinates        transactions  \\\n",
       "995  {'latitude': 41.82474233, 'longitude': -87.616...  [pickup, delivery]   \n",
       "996  {'latitude': 41.7744428337575, 'longitude': -8...          [delivery]   \n",
       "997   {'latitude': 41.955555, 'longitude': -87.869395}  [pickup, delivery]   \n",
       "998      {'latitude': 41.88593, 'longitude': -87.6496}  [pickup, delivery]   \n",
       "999    {'latitude': 42.08425, 'longitude': -87.982455}          [delivery]   \n",
       "\n",
       "    price                                           location         phone  \\\n",
       "995   NaN  {'address1': '3857 S Martin Luther King Dr', '...                 \n",
       "996    $$  {'address1': '1115 Fairview Ave', 'address2': ...  +16302978773   \n",
       "997   NaN  {'address1': '9718 W Irving Park Rd', 'address...  +12247812298   \n",
       "998    $$  {'address1': '205 N Peoria St', 'address2': No...  +13124987080   \n",
       "999     $  {'address1': '10 E Northwest Hwy', 'address2':...  +18472221223   \n",
       "\n",
       "      display_phone      distance  \n",
       "995                   9591.102053  \n",
       "996  (630) 297-8773  22644.474792  \n",
       "997  (224) 781-2298  17860.361243  \n",
       "998  (312) 498-7080   9038.385264  \n",
       "999  (847) 222-1223  34899.216430  "
      ]
     },
     "metadata": {},
     "output_type": "display_data"
    }
   ],
   "source": [
    "final_df = pd.read_json(JSON_FILE)\n",
    "display(final_df.head(), final_df.tail())"
   ]
  },
  {
   "cell_type": "markdown",
   "id": "bea2f243",
   "metadata": {},
   "source": [
    "## Check for duplicates"
   ]
  },
  {
   "cell_type": "code",
   "execution_count": 13,
   "id": "2d055fcc",
   "metadata": {},
   "outputs": [
    {
     "data": {
      "text/plain": [
       "0"
      ]
     },
     "execution_count": 13,
     "metadata": {},
     "output_type": "execute_result"
    }
   ],
   "source": [
    "final_df.duplicated(subset='id').sum()"
   ]
  },
  {
   "cell_type": "code",
   "execution_count": 14,
   "id": "f94a7057",
   "metadata": {},
   "outputs": [],
   "source": [
    "final_df.to_csv('Data/final_results_Chi_burgers.csv.gz', compression='gzip',index=False)"
   ]
  }
 ],
 "metadata": {
  "kernelspec": {
   "display_name": "Python (dojo-env)",
   "language": "python",
   "name": "dojo-env"
  },
  "language_info": {
   "codemirror_mode": {
    "name": "ipython",
    "version": 3
   },
   "file_extension": ".py",
   "mimetype": "text/x-python",
   "name": "python",
   "nbconvert_exporter": "python",
   "pygments_lexer": "ipython3",
   "version": "3.9.15"
  },
  "toc": {
   "base_numbering": 1,
   "nav_menu": {},
   "number_sections": true,
   "sideBar": true,
   "skip_h1_title": false,
   "title_cell": "Table of Contents",
   "title_sidebar": "Contents",
   "toc_cell": false,
   "toc_position": {},
   "toc_section_display": true,
   "toc_window_display": false
  }
 },
 "nbformat": 4,
 "nbformat_minor": 5
}
